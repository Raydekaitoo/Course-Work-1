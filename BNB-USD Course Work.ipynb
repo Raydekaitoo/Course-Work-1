{
 "cells": [
  {
   "cell_type": "code",
   "execution_count": 1,
   "id": "370bd41b",
   "metadata": {},
   "outputs": [
    {
     "name": "stdout",
     "output_type": "stream",
     "text": [
      "Requirement already satisfied: yfinance in c:\\users\\raymond\\anaconda3\\lib\\site-packages (0.1.70)\n",
      "Requirement already satisfied: pandas>=0.24.0 in c:\\users\\raymond\\anaconda3\\lib\\site-packages (from yfinance) (1.3.4)\n",
      "Requirement already satisfied: numpy>=1.15 in c:\\users\\raymond\\anaconda3\\lib\\site-packages (from yfinance) (1.20.3)\n",
      "Requirement already satisfied: lxml>=4.5.1 in c:\\users\\raymond\\anaconda3\\lib\\site-packages (from yfinance) (4.6.3)\n",
      "Requirement already satisfied: multitasking>=0.0.7 in c:\\users\\raymond\\anaconda3\\lib\\site-packages (from yfinance) (0.0.10)\n",
      "Requirement already satisfied: requests>=2.26 in c:\\users\\raymond\\anaconda3\\lib\\site-packages (from yfinance) (2.26.0)\n",
      "Requirement already satisfied: python-dateutil>=2.7.3 in c:\\users\\raymond\\anaconda3\\lib\\site-packages (from pandas>=0.24.0->yfinance) (2.8.2)\n",
      "Requirement already satisfied: pytz>=2017.3 in c:\\users\\raymond\\anaconda3\\lib\\site-packages (from pandas>=0.24.0->yfinance) (2021.3)\n",
      "Requirement already satisfied: six>=1.5 in c:\\users\\raymond\\anaconda3\\lib\\site-packages (from python-dateutil>=2.7.3->pandas>=0.24.0->yfinance) (1.16.0)\n",
      "Requirement already satisfied: urllib3<1.27,>=1.21.1 in c:\\users\\raymond\\anaconda3\\lib\\site-packages (from requests>=2.26->yfinance) (1.26.7)\n",
      "Requirement already satisfied: charset-normalizer~=2.0.0 in c:\\users\\raymond\\anaconda3\\lib\\site-packages (from requests>=2.26->yfinance) (2.0.4)\n",
      "Requirement already satisfied: idna<4,>=2.5 in c:\\users\\raymond\\anaconda3\\lib\\site-packages (from requests>=2.26->yfinance) (3.2)\n",
      "Requirement already satisfied: certifi>=2017.4.17 in c:\\users\\raymond\\anaconda3\\lib\\site-packages (from requests>=2.26->yfinance) (2021.10.8)\n",
      "Note: you may need to restart the kernel to use updated packages.\n"
     ]
    }
   ],
   "source": [
    "pip install yfinance"
   ]
  },
  {
   "cell_type": "code",
   "execution_count": 3,
   "id": "4771985a",
   "metadata": {},
   "outputs": [],
   "source": [
    "import yfinance as yf\n",
    "import numpy as np\n",
    "import pandas as pd"
   ]
  },
  {
   "cell_type": "code",
   "execution_count": 4,
   "id": "dfb3fe9f",
   "metadata": {},
   "outputs": [
    {
     "name": "stdout",
     "output_type": "stream",
     "text": [
      "[*********************100%***********************]  1 of 1 completed\n"
     ]
    }
   ],
   "source": [
    "data = yf.download(\"BNB-USD\", start=\"2021-03-01\", end=\"2022-03-01\")"
   ]
  },
  {
   "cell_type": "code",
   "execution_count": 5,
   "id": "002166db",
   "metadata": {},
   "outputs": [
    {
     "data": {
      "text/html": [
       "<div>\n",
       "<style scoped>\n",
       "    .dataframe tbody tr th:only-of-type {\n",
       "        vertical-align: middle;\n",
       "    }\n",
       "\n",
       "    .dataframe tbody tr th {\n",
       "        vertical-align: top;\n",
       "    }\n",
       "\n",
       "    .dataframe thead th {\n",
       "        text-align: right;\n",
       "    }\n",
       "</style>\n",
       "<table border=\"1\" class=\"dataframe\">\n",
       "  <thead>\n",
       "    <tr style=\"text-align: right;\">\n",
       "      <th></th>\n",
       "      <th>Open</th>\n",
       "      <th>High</th>\n",
       "      <th>Low</th>\n",
       "      <th>Close</th>\n",
       "      <th>Adj Close</th>\n",
       "      <th>Volume</th>\n",
       "    </tr>\n",
       "    <tr>\n",
       "      <th>Date</th>\n",
       "      <th></th>\n",
       "      <th></th>\n",
       "      <th></th>\n",
       "      <th></th>\n",
       "      <th></th>\n",
       "      <th></th>\n",
       "    </tr>\n",
       "  </thead>\n",
       "  <tbody>\n",
       "    <tr>\n",
       "      <th>2021-03-01</th>\n",
       "      <td>209.951309</td>\n",
       "      <td>259.491058</td>\n",
       "      <td>209.951309</td>\n",
       "      <td>254.629929</td>\n",
       "      <td>254.629929</td>\n",
       "      <td>5008256561</td>\n",
       "    </tr>\n",
       "    <tr>\n",
       "      <th>2021-03-02</th>\n",
       "      <td>254.953354</td>\n",
       "      <td>264.169312</td>\n",
       "      <td>228.641647</td>\n",
       "      <td>239.522537</td>\n",
       "      <td>239.522537</td>\n",
       "      <td>5882262804</td>\n",
       "    </tr>\n",
       "    <tr>\n",
       "      <th>2021-03-03</th>\n",
       "      <td>239.688980</td>\n",
       "      <td>254.253632</td>\n",
       "      <td>236.908752</td>\n",
       "      <td>241.091370</td>\n",
       "      <td>241.091370</td>\n",
       "      <td>5827707431</td>\n",
       "    </tr>\n",
       "    <tr>\n",
       "      <th>2021-03-04</th>\n",
       "      <td>241.045486</td>\n",
       "      <td>249.465607</td>\n",
       "      <td>226.084946</td>\n",
       "      <td>229.945068</td>\n",
       "      <td>229.945068</td>\n",
       "      <td>5580339595</td>\n",
       "    </tr>\n",
       "    <tr>\n",
       "      <th>2021-03-05</th>\n",
       "      <td>229.835297</td>\n",
       "      <td>230.366638</td>\n",
       "      <td>216.272614</td>\n",
       "      <td>226.372559</td>\n",
       "      <td>226.372559</td>\n",
       "      <td>4969642573</td>\n",
       "    </tr>\n",
       "  </tbody>\n",
       "</table>\n",
       "</div>"
      ],
      "text/plain": [
       "                  Open        High         Low       Close   Adj Close  \\\n",
       "Date                                                                     \n",
       "2021-03-01  209.951309  259.491058  209.951309  254.629929  254.629929   \n",
       "2021-03-02  254.953354  264.169312  228.641647  239.522537  239.522537   \n",
       "2021-03-03  239.688980  254.253632  236.908752  241.091370  241.091370   \n",
       "2021-03-04  241.045486  249.465607  226.084946  229.945068  229.945068   \n",
       "2021-03-05  229.835297  230.366638  216.272614  226.372559  226.372559   \n",
       "\n",
       "                Volume  \n",
       "Date                    \n",
       "2021-03-01  5008256561  \n",
       "2021-03-02  5882262804  \n",
       "2021-03-03  5827707431  \n",
       "2021-03-04  5580339595  \n",
       "2021-03-05  4969642573  "
      ]
     },
     "execution_count": 5,
     "metadata": {},
     "output_type": "execute_result"
    }
   ],
   "source": [
    "data.head()"
   ]
  },
  {
   "cell_type": "code",
   "execution_count": 6,
   "id": "acf92b98",
   "metadata": {},
   "outputs": [
    {
     "data": {
      "text/html": [
       "<div>\n",
       "<style scoped>\n",
       "    .dataframe tbody tr th:only-of-type {\n",
       "        vertical-align: middle;\n",
       "    }\n",
       "\n",
       "    .dataframe tbody tr th {\n",
       "        vertical-align: top;\n",
       "    }\n",
       "\n",
       "    .dataframe thead th {\n",
       "        text-align: right;\n",
       "    }\n",
       "</style>\n",
       "<table border=\"1\" class=\"dataframe\">\n",
       "  <thead>\n",
       "    <tr style=\"text-align: right;\">\n",
       "      <th></th>\n",
       "      <th>Open</th>\n",
       "      <th>High</th>\n",
       "      <th>Low</th>\n",
       "      <th>Close</th>\n",
       "      <th>Adj Close</th>\n",
       "      <th>Volume</th>\n",
       "    </tr>\n",
       "    <tr>\n",
       "      <th>Date</th>\n",
       "      <th></th>\n",
       "      <th></th>\n",
       "      <th></th>\n",
       "      <th></th>\n",
       "      <th></th>\n",
       "      <th></th>\n",
       "    </tr>\n",
       "  </thead>\n",
       "  <tbody>\n",
       "    <tr>\n",
       "      <th>2022-02-25</th>\n",
       "      <td>361.216003</td>\n",
       "      <td>376.802612</td>\n",
       "      <td>357.366547</td>\n",
       "      <td>374.914948</td>\n",
       "      <td>374.914948</td>\n",
       "      <td>1839035023</td>\n",
       "    </tr>\n",
       "    <tr>\n",
       "      <th>2022-02-26</th>\n",
       "      <td>374.888580</td>\n",
       "      <td>385.210327</td>\n",
       "      <td>371.475037</td>\n",
       "      <td>373.638763</td>\n",
       "      <td>373.638763</td>\n",
       "      <td>1319208551</td>\n",
       "    </tr>\n",
       "    <tr>\n",
       "      <th>2022-02-27</th>\n",
       "      <td>373.599976</td>\n",
       "      <td>380.959076</td>\n",
       "      <td>359.625519</td>\n",
       "      <td>360.531036</td>\n",
       "      <td>360.531036</td>\n",
       "      <td>1600855952</td>\n",
       "    </tr>\n",
       "    <tr>\n",
       "      <th>2022-02-28</th>\n",
       "      <td>360.382172</td>\n",
       "      <td>396.457336</td>\n",
       "      <td>356.617584</td>\n",
       "      <td>395.612427</td>\n",
       "      <td>395.612427</td>\n",
       "      <td>1868349380</td>\n",
       "    </tr>\n",
       "    <tr>\n",
       "      <th>2022-03-01</th>\n",
       "      <td>395.624115</td>\n",
       "      <td>418.489960</td>\n",
       "      <td>391.329224</td>\n",
       "      <td>408.482300</td>\n",
       "      <td>408.482300</td>\n",
       "      <td>2885318336</td>\n",
       "    </tr>\n",
       "  </tbody>\n",
       "</table>\n",
       "</div>"
      ],
      "text/plain": [
       "                  Open        High         Low       Close   Adj Close  \\\n",
       "Date                                                                     \n",
       "2022-02-25  361.216003  376.802612  357.366547  374.914948  374.914948   \n",
       "2022-02-26  374.888580  385.210327  371.475037  373.638763  373.638763   \n",
       "2022-02-27  373.599976  380.959076  359.625519  360.531036  360.531036   \n",
       "2022-02-28  360.382172  396.457336  356.617584  395.612427  395.612427   \n",
       "2022-03-01  395.624115  418.489960  391.329224  408.482300  408.482300   \n",
       "\n",
       "                Volume  \n",
       "Date                    \n",
       "2022-02-25  1839035023  \n",
       "2022-02-26  1319208551  \n",
       "2022-02-27  1600855952  \n",
       "2022-02-28  1868349380  \n",
       "2022-03-01  2885318336  "
      ]
     },
     "execution_count": 6,
     "metadata": {},
     "output_type": "execute_result"
    }
   ],
   "source": [
    "data.tail()"
   ]
  },
  {
   "cell_type": "code",
   "execution_count": 7,
   "id": "d27866d7",
   "metadata": {},
   "outputs": [
    {
     "data": {
      "text/plain": [
       "Date\n",
       "2021-03-01    254.629929\n",
       "2021-03-02    239.522537\n",
       "2021-03-03    241.091370\n",
       "2021-03-04    229.945068\n",
       "2021-03-05    226.372559\n",
       "Name: Adj Close, dtype: float64"
      ]
     },
     "execution_count": 7,
     "metadata": {},
     "output_type": "execute_result"
    }
   ],
   "source": [
    "data['Adj Close'].head()"
   ]
  },
  {
   "cell_type": "code",
   "execution_count": 8,
   "id": "fca3cec2",
   "metadata": {},
   "outputs": [
    {
     "data": {
      "text/plain": [
       "array([<AxesSubplot:xlabel='Date'>], dtype=object)"
      ]
     },
     "execution_count": 8,
     "metadata": {},
     "output_type": "execute_result"
    },
    {
     "data": {
      "image/png": "[encoded data removed]",
      "text/plain": [
       "<Figure size 720x864 with 1 Axes>"
      ]
     },
     "metadata": {
      "needs_background": "light"
     },
     "output_type": "display_data"
    }
   ],
   "source": [
    "data['Adj Close'].plot(figsize=(10, 12), subplots=True)"
   ]
  },
  {
   "cell_type": "code",
   "execution_count": 9,
   "id": "a8289aa6",
   "metadata": {},
   "outputs": [
    {
     "data": {
      "text/plain": [
       "[-0.05933077639830275,\n",
       " 0.006549832076741111,\n",
       " -0.04623268467339959,\n",
       " -0.015536361754197833,\n",
       " 0.0013000527381792062]"
      ]
     },
     "execution_count": 9,
     "metadata": {},
     "output_type": "execute_result"
    }
   ],
   "source": [
    "normal_return = []\n",
    "for i in range(0,len(data)-1):\n",
    "    adjclose_yesterday = data.iloc[i]['Adj Close']\n",
    "    adjclose_today = data.iloc[i+1]['Adj Close']\n",
    "    x = (adjclose_today - adjclose_yesterday) / adjclose_yesterday\n",
    "    normal_return.append(x)\n",
    "normal_return[:5]"
   ]
  },
  {
   "cell_type": "code",
   "execution_count": 10,
   "id": "4848c4e1",
   "metadata": {},
   "outputs": [
    {
     "data": {
      "text/plain": [
       "[-0.06116371702534487,\n",
       " 0.0065284751321675214,\n",
       " -0.047335541553145274,\n",
       " -0.015658315819880267,\n",
       " 0.0012992084013272779]"
      ]
     },
     "execution_count": 10,
     "metadata": {},
     "output_type": "execute_result"
    }
   ],
   "source": [
    "log_return = []\n",
    "for i in range(0,len(data)-1):\n",
    "    adjclose_yesterday = data.iloc[i]['Adj Close']\n",
    "    adjclose_today = data.iloc[i+1]['Adj Close']\n",
    "    y = np.log(adjclose_today / adjclose_yesterday)\n",
    "    log_return.append(y)\n",
    "log_return[:5]"
   ]
  },
  {
   "cell_type": "code",
   "execution_count": 11,
   "id": "88f2ba00",
   "metadata": {},
   "outputs": [
    {
     "name": "stdout",
     "output_type": "stream",
     "text": [
      "The annulized log return is 0.47263735 and its annulized volatility is 1.11509591\n"
     ]
    }
   ],
   "source": [
    "dflr = pd.DataFrame(log_return, columns = ['log']) \n",
    "lr = dflr.mean() * len(dflr)\n",
    "lv = dflr.std() * (len(dflr) ** 0.5)\n",
    "print('The annulized log return is %.8f and its annulized volatility is %.8f' % (lr,lv))"
   ]
  },
  {
   "cell_type": "code",
   "execution_count": 12,
   "id": "b5417c90",
   "metadata": {},
   "outputs": [],
   "source": [
    "import os"
   ]
  },
  {
   "cell_type": "code",
   "execution_count": 13,
   "id": "9bfc43cc",
   "metadata": {},
   "outputs": [],
   "source": [
    "S0 = 209.951            # spot stock price\n",
    "K = 500              # strike\n",
    "T = 1.0                 # maturity \n",
    "r = 0.011                 # risk free rate \n",
    "sig = 1.115               # diffusion coefficient or volatility\n",
    "N = 3                   # number of periods or number of time steps  \n",
    "payoff = \"put\"          # payoff"
   ]
  },
  {
   "cell_type": "code",
   "execution_count": 14,
   "id": "36d0eb1b",
   "metadata": {},
   "outputs": [],
   "source": [
    "dT = float(T) / N                             # Delta t\n",
    "u = np.exp(sig * np.sqrt(dT))                 # up factor\n",
    "d = 1.0 / u       "
   ]
  },
  {
   "cell_type": "code",
   "execution_count": 15,
   "id": "54a12b72",
   "metadata": {},
   "outputs": [],
   "source": [
    "S = np.zeros((N + 1, N + 1))\n",
    "S[0, 0] = S0\n",
    "z = 1\n",
    "for t in range(1, N + 1):\n",
    "    for i in range(z):\n",
    "        S[i, t] = S[i, t-1] * u\n",
    "        S[i+1, t] = S[i, t-1] * d\n",
    "    z += 1"
   ]
  },
  {
   "cell_type": "code",
   "execution_count": 16,
   "id": "8478df7b",
   "metadata": {},
   "outputs": [
    {
     "data": {
      "text/plain": [
       "array([[ 209.951     ,  399.66221198,  760.79601282, 1448.24943608],\n",
       "       [   0.        ,  110.29169403,  209.951     ,  399.66221198],\n",
       "       [   0.        ,    0.        ,   57.93855601,  110.29169403],\n",
       "       [   0.        ,    0.        ,    0.        ,   30.43634702]])"
      ]
     },
     "execution_count": 16,
     "metadata": {},
     "output_type": "execute_result"
    }
   ],
   "source": [
    "S\n"
   ]
  },
  {
   "cell_type": "code",
   "execution_count": 17,
   "id": "09466c57",
   "metadata": {},
   "outputs": [
    {
     "data": {
      "text/plain": [
       "0.34706555482802115"
      ]
     },
     "execution_count": 17,
     "metadata": {},
     "output_type": "execute_result"
    }
   ],
   "source": [
    "a = np.exp(r * dT)    # risk free compound return\n",
    "p = (a - d)/ (u - d)  # risk neutral up probability\n",
    "q = 1.0 - p           # risk neutral down probability\n",
    "p"
   ]
  },
  {
   "cell_type": "code",
   "execution_count": 18,
   "id": "ce26b45a",
   "metadata": {},
   "outputs": [
    {
     "data": {
      "text/plain": [
       "array([[  0.        ,   0.        ,   0.        ,   0.        ],\n",
       "       [  0.        ,   0.        ,   0.        , 100.33778802],\n",
       "       [  0.        ,   0.        ,   0.        , 389.70830597],\n",
       "       [  0.        ,   0.        ,   0.        , 469.56365298]])"
      ]
     },
     "execution_count": 18,
     "metadata": {},
     "output_type": "execute_result"
    }
   ],
   "source": [
    "S_T = S[:,-1]\n",
    "V = np.zeros((N + 1, N + 1))\n",
    "if payoff ==\"call\":\n",
    "    V[:,-1] = np.maximum(S_T-K, 0.0)\n",
    "elif payoff ==\"put\":\n",
    "    V[:,-1] = np.maximum(K-S_T, 0.0)\n",
    "V"
   ]
  },
  {
   "cell_type": "code",
   "execution_count": 19,
   "id": "8f9af507",
   "metadata": {},
   "outputs": [
    {
     "data": {
      "text/plain": [
       "array([[323.78760926, 210.07088783,  65.27421982,   0.        ],\n",
       "       [  0.        , 386.05505094, 288.21902367, 100.33778802],\n",
       "       [  0.        ,   0.        , 440.23146766, 389.70830597],\n",
       "       [  0.        ,   0.        ,   0.        , 469.56365298]])"
      ]
     },
     "execution_count": 19,
     "metadata": {},
     "output_type": "execute_result"
    }
   ],
   "source": [
    "# for European Option\n",
    "for j in range(N-1, -1, -1):\n",
    "    for i in range(j+1):\n",
    "        V[i,j] = np.exp(-r*dT) * (p * V[i,j + 1] + q * V[i + 1,j + 1])\n",
    "V"
   ]
  },
  {
   "cell_type": "code",
   "execution_count": 20,
   "id": "238e7524",
   "metadata": {},
   "outputs": [
    {
     "name": "stdout",
     "output_type": "stream",
     "text": [
      "European put 323.78760926194275\n"
     ]
    }
   ],
   "source": [
    "print('European ' + payoff, str( V[0,0]))"
   ]
  },
  {
   "cell_type": "code",
   "execution_count": 21,
   "id": "288c58af",
   "metadata": {},
   "outputs": [
    {
     "data": {
      "text/plain": [
       "array([[326.575878  , 211.2613693 ,  65.27421982,   0.        ],\n",
       "       [  0.        , 389.70830597, 290.049     , 100.33778802],\n",
       "       [  0.        ,   0.        , 442.06144399, 389.70830597],\n",
       "       [  0.        ,   0.        ,   0.        , 469.56365298]])"
      ]
     },
     "execution_count": 21,
     "metadata": {},
     "output_type": "execute_result"
    }
   ],
   "source": [
    "# for American Option\n",
    "if payoff ==\"call\":\n",
    "    for j in range(N-1, -1, -1):\n",
    "        for i in range(j+1):\n",
    "            V[i,j] = np.maximum(S[i,j] - K,np.exp(-r*dT) * (p * V[i,j + 1] + q * V[i + 1,j + 1]))\n",
    "elif payoff ==\"put\":\n",
    "    for j in range(N-1, -1, -1):\n",
    "        for i in range(j+1):\n",
    "            V[i,j] = np.maximum(K - S[i,j],np.exp(-r*dT) * (p * V[i,j + 1] + q * V[i + 1,j + 1]))\n",
    "V"
   ]
  },
  {
   "cell_type": "code",
   "execution_count": 22,
   "id": "7d70b268",
   "metadata": {},
   "outputs": [
    {
     "name": "stdout",
     "output_type": "stream",
     "text": [
      "American put 326.57587799784994\n"
     ]
    }
   ],
   "source": [
    "print('American ' + payoff, str( V[0,0]))"
   ]
  },
  {
   "cell_type": "code",
   "execution_count": 23,
   "id": "eb729101",
   "metadata": {},
   "outputs": [],
   "source": [
    "def mcs_simulation_np(p):\n",
    "    M = p\n",
    "    I = p\n",
    "    dt = T / M \n",
    "    S = np.zeros((M + 1, I))\n",
    "    S[0] = S0 \n",
    "    rn = np.random.standard_normal(S.shape) \n",
    "    for t in range(1, M + 1): \n",
    "        S[t] = S[t-1] * np.exp((r - sigma ** 2 / 2) * dt + sigma * np.sqrt(dt) * rn[t]) \n",
    "    return S"
   ]
  },
  {
   "cell_type": "code",
   "execution_count": 24,
   "id": "6115359d",
   "metadata": {},
   "outputs": [],
   "source": [
    "T = 1\n",
    "r = 0.011\n",
    "sigma = 1.115\n",
    "S0 = 100\n",
    "K = 500"
   ]
  },
  {
   "cell_type": "code",
   "execution_count": 25,
   "id": "a89fdb89",
   "metadata": {},
   "outputs": [],
   "source": [
    "S = mcs_simulation_np(1000)"
   ]
  },
  {
   "cell_type": "code",
   "execution_count": 26,
   "id": "46477641",
   "metadata": {},
   "outputs": [
    {
     "data": {
      "text/plain": [
       "array([[100.        ,  93.19759389,  96.36000271, ...,  22.31877879,\n",
       "         23.43377531,  24.57182726],\n",
       "       [100.        ,  99.69002956,  99.16365314, ...,  24.91537239,\n",
       "         25.62874262,  25.55087702],\n",
       "       [100.        ,  97.59125373,  95.10267268, ...,   9.20387416,\n",
       "          9.62633599,   9.51078655],\n",
       "       ...,\n",
       "       [100.        , 102.52546079,  97.06416933, ...,  16.63429405,\n",
       "         16.35641117,  16.71793245],\n",
       "       [100.        ,  97.00052265,  93.90205177, ..., 263.70733442,\n",
       "        256.29820511, 249.60042078],\n",
       "       [100.        ,  98.24262784,  95.25504092, ...,  51.585224  ,\n",
       "         50.78373364,  52.98089243]])"
      ]
     },
     "execution_count": 26,
     "metadata": {},
     "output_type": "execute_result"
    }
   ],
   "source": [
    "S = np.transpose(S)\n",
    "S"
   ]
  },
  {
   "cell_type": "code",
   "execution_count": 29,
   "id": "0c67c0f3",
   "metadata": {},
   "outputs": [
    {
     "data": {
      "text/plain": [
       "Text(0.5, 1.0, 'Frequency distribution of the simulated end-of-preiod values')"
      ]
     },
     "execution_count": 29,
     "metadata": {},
     "output_type": "execute_result"
    },
    {
     "data": {
      "image/png": "[encoded data removed]",
      "text/plain": [
       "<Figure size 432x288 with 1 Axes>"
      ]
     },
     "metadata": {
      "needs_background": "light"
     },
     "output_type": "display_data"
    }
   ],
   "source": [
    "import matplotlib.pyplot as plt\n",
    "n, bins, patches = plt.hist(x=S[:,-1], bins='auto', color='#32cd32',alpha=0.7, rwidth=0.85)\n",
    "\n",
    "plt.grid(axis='y', alpha=0.75)\n",
    "plt.xlabel('S_T')\n",
    "plt.ylabel('Frequency')\n",
    "plt.title('Frequency distribution of the simulated end-of-preiod values')"
   ]
  },
  {
   "cell_type": "code",
   "execution_count": 30,
   "id": "0d6cf2e0",
   "metadata": {},
   "outputs": [
    {
     "name": "stdout",
     "output_type": "stream",
     "text": [
      "European put 411.9262608452851\n"
     ]
    }
   ],
   "source": [
    "p = np.mean(np.maximum(K - S[:,-1],0))\n",
    "print('European put', str(p))"
   ]
  },
  {
   "cell_type": "code",
   "execution_count": 31,
   "id": "1b095c8b",
   "metadata": {},
   "outputs": [
    {
     "name": "stdout",
     "output_type": "stream",
     "text": [
      "European call 10.154680855376188\n"
     ]
    }
   ],
   "source": [
    "c = np.mean(np.maximum(S[:,-1] - K,0))\n",
    "print('European call', str(c))"
   ]
  },
  {
   "cell_type": "code",
   "execution_count": null,
   "id": "9dcfbd36",
   "metadata": {},
   "outputs": [],
   "source": []
  }
 ],
 "metadata": {
  "kernelspec": {
   "display_name": "Python 3 (ipykernel)",
   "language": "python",
   "name": "python3"
  },
  "language_info": {
   "codemirror_mode": {
    "name": "ipython",
    "version": 3
   },
   "file_extension": ".py",
   "mimetype": "text/x-python",
   "name": "python",
   "nbconvert_exporter": "python",
   "pygments_lexer": "ipython3",
   "version": "3.9.7"
  }
 },
 "nbformat": 4,
 "nbformat_minor": 5
}
