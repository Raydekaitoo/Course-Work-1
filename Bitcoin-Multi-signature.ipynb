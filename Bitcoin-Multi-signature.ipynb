{
 "cells": [
  {
   "cell_type": "code",
   "execution_count": 12,
   "id": "ba62682a",
   "metadata": {},
   "outputs": [
    {
     "name": "stdout",
     "output_type": "stream",
     "text": [
      "Requirement already satisfied: bitcoin in c:\\users\\raymond\\anaconda3\\lib\\site-packages (1.1.42)\n",
      "Note: you may need to restart the kernel to use updated packages.\n"
     ]
    }
   ],
   "source": [
    "pip install bitcoin"
   ]
  },
  {
   "cell_type": "code",
   "execution_count": 13,
   "id": "3dd4efad",
   "metadata": {},
   "outputs": [],
   "source": [
    "from bitcoin import *"
   ]
  },
  {
   "cell_type": "code",
   "execution_count": 14,
   "id": "62eb88ee",
   "metadata": {},
   "outputs": [
    {
     "name": "stdout",
     "output_type": "stream",
     "text": [
      "Private Key: 086f4395531b55b0d0a73b2ddbf88152e245126bed32b10886a2bec51c4f430f\n",
      "\n"
     ]
    }
   ],
   "source": [
    "my_private_key = random_key()\n",
    "print(\"Private Key: %s\\n\" % my_private_key)"
   ]
  },
  {
   "cell_type": "code",
   "execution_count": 15,
   "id": "f35b7995",
   "metadata": {},
   "outputs": [
    {
     "name": "stdout",
     "output_type": "stream",
     "text": [
      "Public Key: 04696430264d049061d0696eecb36e1600e257413616962b8c9ad35661380b593db563fad5feed072aa46a65f7c4ca0133376905ae108118b7334506586719ea23\n",
      "\n"
     ]
    }
   ],
   "source": [
    "my_public_key = privtopub(my_private_key)\n",
    "print(\"Public Key: %s\\n\" % my_public_key)"
   ]
  },
  {
   "cell_type": "code",
   "execution_count": 16,
   "id": "5e35dc9a",
   "metadata": {},
   "outputs": [
    {
     "name": "stdout",
     "output_type": "stream",
     "text": [
      "Bitcoin Address: 1EfFDF3qAT6QYAukDR7x9WuxqoU5vQ143e\n",
      "\n"
     ]
    }
   ],
   "source": [
    "my_address = pubtoaddr(my_public_key)\n",
    "print(\"Bitcoin Address: %s\\n\" % my_address)"
   ]
  },
  {
   "cell_type": "code",
   "execution_count": 17,
   "id": "2d23401c",
   "metadata": {},
   "outputs": [],
   "source": [
    "private_key1 = random_key()\n",
    "private_key2 = random_key()\n",
    "private_key3 = random_key()\n",
    "private_key4 = random_key()"
   ]
  },
  {
   "cell_type": "code",
   "execution_count": 18,
   "id": "507e6075",
   "metadata": {},
   "outputs": [],
   "source": [
    "public_key1 = privtopub(private_key1)\n",
    "public_key2 = privtopub(private_key2)\n",
    "public_key3 = privtopub(private_key3)\n",
    "public_key4 = privtopub(private_key4)"
   ]
  },
  {
   "cell_type": "code",
   "execution_count": 19,
   "id": "c15dc73b",
   "metadata": {},
   "outputs": [
    {
     "name": "stdout",
     "output_type": "stream",
     "text": [
      "My Multisignature Address: 3Fmr5FMWrMUcV4mGZxPnLrKqKn6h1zjm37\n",
      "\n"
     ]
    }
   ],
   "source": [
    "my_mulit_sig = mk_multisig_script(private_key1, private_key2, private_key3, private_key4, 3, 4)\n",
    "my_mulit_address = scriptaddr(my_mulit_sig)\n",
    "print(\"My Multisignature Address: %s\\n\" % my_mulit_address)"
   ]
  },
  {
   "cell_type": "code",
   "execution_count": 20,
   "id": "9d04ff08",
   "metadata": {},
   "outputs": [
    {
     "name": "stdout",
     "output_type": "stream",
     "text": [
      "[{'address': '1KokfmiMAkpnqDTt3aKVkrEf6Hsagpbz8B', 'value': 471797, 'output': '0b9b3e874638d8cbce4ff5fad651d740d6f5b9cee9503be9495a45b801f48bec:0', 'block_height': 668363, 'spend': '27815390ad05b8a49bc15ec364e0e320bab21aa5c46a6c5b2b79ac4c0ae9cbc1:4'}]\n"
     ]
    }
   ],
   "source": [
    "valid_address = '1KokfmiMAkpnqDTt3aKVkrEf6Hsagpbz8B'\n",
    "print(history(valid_address))"
   ]
  },
  {
   "cell_type": "code",
   "execution_count": null,
   "id": "820fa061",
   "metadata": {},
   "outputs": [],
   "source": []
  }
 ],
 "metadata": {
  "kernelspec": {
   "display_name": "Python 3 (ipykernel)",
   "language": "python",
   "name": "python3"
  },
  "language_info": {
   "codemirror_mode": {
    "name": "ipython",
    "version": 3
   },
   "file_extension": ".py",
   "mimetype": "text/x-python",
   "name": "python",
   "nbconvert_exporter": "python",
   "pygments_lexer": "ipython3",
   "version": "3.9.7"
  }
 },
 "nbformat": 4,
 "nbformat_minor": 5
}
